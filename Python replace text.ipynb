{
 "cells": [
  {
   "cell_type": "code",
   "execution_count": 2,
   "metadata": {},
   "outputs": [
    {
     "data": {
      "text/plain": [
       "'because following are because graphical (non-control) characters defined because'"
      ]
     },
     "execution_count": 2,
     "metadata": {},
     "output_type": "execute_result"
    }
   ],
   "source": [
    "#Here's our text\n",
    "a = ('bcz following are bcz graphical (non-control) characters defined bcz')\n",
    "#Using replace method\n",
    "#The syntax of replace() is:str.replace(old, new [, count]) \n",
    "a = a.replace('bcz', 'because')\n",
    "a"
   ]
  },
  {
   "cell_type": "code",
   "execution_count": 15,
   "metadata": {},
   "outputs": [
    {
     "name": "stdout",
     "output_type": "stream",
     "text": [
      "because following are because graphical (non-control) characters defined because\n"
     ]
    }
   ],
   "source": [
    "# replacing text in a file\n",
    "with open('test.txt','w') as f:\n",
    "    f.write('bcz following are bcz graphical (non-control) characters defined bcz')\n",
    "with open('test.txt', 'r',) as f:\n",
    "    a = f.read()\n",
    "    a = a.replace('bcz', 'because')\n",
    "    with open('test.txt', 'w',) as f:\n",
    "        f.write(a)\n",
    "        `\n",
    "f = open('test.txt','r')\n",
    "f_contents = f.read()\n",
    "print(f_contents)\n",
    "f.close()"
   ]
  },
  {
   "cell_type": "code",
   "execution_count": 16,
   "metadata": {},
   "outputs": [
    {
     "data": {
      "text/plain": [
       "'because following are because graphical (non-control) characters defined because'"
      ]
     },
     "execution_count": 16,
     "metadata": {},
     "output_type": "execute_result"
    }
   ],
   "source": [
    "#Replace using dictionary if there are more than one word to replace\n",
    "dic = {'bcz':'because'}\n",
    "text = ('bcz following are bcz graphical (non-control) characters defined bcz')\n",
    "def replace_all(text, dic):\n",
    "    for i, j in dic.items():\n",
    "        text = text.replace(i, j)\n",
    "    return text\n",
    "a = replace_all(text, dic)\n",
    "a\n",
    "#where text is the complete string and dic is a dictionary\n",
    "#— each definition is a string that will replace a match to the term."
   ]
  }
 ],
 "metadata": {
  "kernelspec": {
   "display_name": "Python 3",
   "language": "python",
   "name": "python3"
  },
  "language_info": {
   "codemirror_mode": {
    "name": "ipython",
    "version": 3
   },
   "file_extension": ".py",
   "mimetype": "text/x-python",
   "name": "python",
   "nbconvert_exporter": "python",
   "pygments_lexer": "ipython3",
   "version": "3.6.7"
  }
 },
 "nbformat": 4,
 "nbformat_minor": 2
}
